{
 "cells": [
  {
   "cell_type": "markdown",
   "metadata": {},
   "source": [
    "# Sports Chatbot Model\n",
    "\n",
    "## Data from a MySQL Database is trained using LSTM model"
   ]
  },
  {
   "cell_type": "code",
   "execution_count": 7,
   "metadata": {},
   "outputs": [],
   "source": [
    "from numpy import array\n",
    "import numpy as np\n",
    "import random\n",
    "import sys\n",
    "import io\n",
    "import os\n",
    "import pandas as pd\n",
    "from keras.preprocessing.text import Tokenizer\n",
    "from keras.utils import to_categorical\n",
    "from keras.models import Sequential\n",
    "from keras.layers import Dense,Activation\n",
    "from keras.layers import LSTM\n",
    "from keras.layers import Embedding\n",
    "from keras.optimizers import RMSprop\n",
    "from keras.utils.data_utils import get_file\n",
    "from keras.models import load_model\n",
    "from keras.callbacks import LambdaCallback\n",
    "import pickle\n",
    "\n",
    "def save_obj(obj, name ):\n",
    "    with open('objects/'+ name + '.pkl', 'wb') as f:\n",
    "        pickle.dump(obj, f, pickle.HIGHEST_PROTOCOL)\n"
   ]
  },
  {
   "cell_type": "code",
   "execution_count": 3,
   "metadata": {},
   "outputs": [
    {
     "name": "stdout",
     "output_type": "stream",
     "text": [
      "original corpus length: 1206226\n"
     ]
    }
   ],
   "source": [
    "file_name = '../Data/baseball30_to_40.csv'\n",
    "file = open(file_name)\n",
    "data=file.read()\n",
    "\n",
    "print('original corpus length:',len(data))"
   ]
  },
  {
   "cell_type": "code",
   "execution_count": 8,
   "metadata": {},
   "outputs": [
    {
     "name": "stdout",
     "output_type": "stream",
     "text": [
      "Vocabulary Size: 18186\n",
      "Total Sequences: 226672\n",
      "_________________________________________________________________\n",
      "Layer (type)                 Output Shape              Param #   \n",
      "=================================================================\n",
      "embedding_2 (Embedding)      (None, 1, 10)             181860    \n",
      "_________________________________________________________________\n",
      "lstm_2 (LSTM)                (None, 50)                12200     \n",
      "_________________________________________________________________\n",
      "dense_2 (Dense)              (None, 18186)             927486    \n",
      "=================================================================\n",
      "Total params: 1,121,546\n",
      "Trainable params: 1,121,546\n",
      "Non-trainable params: 0\n",
      "_________________________________________________________________\n",
      "None\n",
      "Epoch 1/1\n",
      "226672/226672 [==============================] - 520s 2ms/step - loss: 7.3544 - acc: 0.0361\n"
     ]
    }
   ],
   "source": [
    "# integer encode text\n",
    "tokenizer = Tokenizer()\n",
    "tokenizer.fit_on_texts([data])\n",
    "encoded = tokenizer.texts_to_sequences([data])[0]\n",
    "\n",
    "# determine the vocabulary size\n",
    "vocab_size = len(tokenizer.word_index) + 1\n",
    "print('Vocabulary Size: %d' % vocab_size)\n",
    "\n",
    "#Save dictionary these will be needed for deployment\n",
    "save_obj(tokenizer.word_index, 'word_dictionary')\n",
    "save_obj(tokenizer,'word_tokenizer')\n",
    "\n",
    "\n",
    "# create word -> word sequences\n",
    "sequences = list()\n",
    "for i in range(1, len(encoded)):\n",
    "    sequence = encoded[i-1:i+1]\n",
    "    sequences.append(sequence)\n",
    "print('Total Sequences: %d' % len(sequences))\n",
    "\n",
    "# split into X and y elements\n",
    "sequences = array(sequences)\n",
    "X, y = sequences[:,0],sequences[:,1]\n",
    "\n",
    "# one hot encode outputs\n",
    "y = to_categorical(y, num_classes=vocab_size)\n",
    "\n",
    "# define model\n",
    "model = Sequential()\n",
    "model.add(Embedding(vocab_size, 10, input_length=1))\n",
    "model.add(LSTM(50))\n",
    "model.add(Dense(vocab_size, activation='softmax'))\n",
    "print(model.summary())\n",
    "\n",
    "# compile network\n",
    "model.compile(loss='categorical_crossentropy', optimizer='adam', metrics=['accuracy'])\n",
    "\n",
    "# fit network\n",
    "model.fit(X, y, epochs=1, verbose=True)\n",
    "\n",
    "\n",
    "# Save the model for deployment\n",
    "model.save('keras_text_model.h5')"
   ]
  },
  {
   "cell_type": "code",
   "execution_count": 10,
   "metadata": {},
   "outputs": [
    {
     "name": "stdout",
     "output_type": "stream",
     "text": [
      "Enter a word to translateBaseball\n",
      "output: ['is']\n"
     ]
    }
   ],
   "source": [
    "words = [k for k, v in tokenizer.word_index.items()]\n",
    "\n",
    "def decode_sequence(sequence):\n",
    "    return [words[seq - 1] for seq in sequence]\n",
    "\n",
    "in_text = input('Enter a word to translate')\n",
    "\n",
    "encoded = tokenizer.texts_to_sequences([in_text])\n",
    "encoded = array(encoded)\n",
    "\n",
    "# y_hat == index of predicted word next in sequence\n",
    "yhat = model.predict_classes(encoded, verbose=0)\n",
    "#yhat is a numpy array\n",
    "# Lookup sequences and print them out\n",
    "print('output:',decode_sequence(yhat))"
   ]
  },
  {
   "cell_type": "code",
   "execution_count": 33,
   "metadata": {},
   "outputs": [
    {
     "name": "stdout",
     "output_type": "stream",
     "text": [
      "Jack\n",
      "<class 'numpy.ndarray'>\n"
     ]
    },
    {
     "data": {
      "text/plain": [
       "['is']"
      ]
     },
     "execution_count": 33,
     "metadata": {},
     "output_type": "execute_result"
    }
   ],
   "source": [
    "\n",
    "# evaluate\n",
    "in_text = \"Jack\"\n",
    "print(in_text)\n",
    "encoded = tokenizer.texts_to_sequences([in_text])\n",
    "encoded = array(encoded)\n",
    "\n",
    "# y_hat == index of predicted word next in sequence\n",
    "yhat = model.predict_classes(encoded, verbose=0)\n",
    "#yhat is a numpy array\n",
    "# Lookup sequences and print them out\n",
    "print('output:',decode_sequence(yhat))"
   ]
  }
 ],
 "metadata": {
  "kernelspec": {
   "display_name": "Python [conda env:dsi]",
   "language": "python",
   "name": "conda-env-dsi-py"
  },
  "language_info": {
   "codemirror_mode": {
    "name": "ipython",
    "version": 3
   },
   "file_extension": ".py",
   "mimetype": "text/x-python",
   "name": "python",
   "nbconvert_exporter": "python",
   "pygments_lexer": "ipython3",
   "version": "3.6.4"
  }
 },
 "nbformat": 4,
 "nbformat_minor": 2
}
